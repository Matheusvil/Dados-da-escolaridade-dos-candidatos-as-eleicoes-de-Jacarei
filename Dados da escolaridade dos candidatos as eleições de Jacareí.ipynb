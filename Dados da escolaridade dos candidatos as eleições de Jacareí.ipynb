{
 "cells": [
  {
   "cell_type": "code",
   "execution_count": 18,
   "metadata": {},
   "outputs": [],
   "source": [
    "# Nome: Matheus Vilela Borrego Ferreira"
   ]
  },
  {
   "cell_type": "code",
   "execution_count": 19,
   "metadata": {},
   "outputs": [],
   "source": [
    "import pandas as pd\n",
    "import matplotlib.pyplot as plt"
   ]
  },
  {
   "cell_type": "code",
   "execution_count": 20,
   "metadata": {
    "scrolled": true
   },
   "outputs": [
    {
     "name": "stdout",
     "output_type": "stream",
     "text": [
      "<class 'pandas.core.frame.DataFrame'>\n",
      "RangeIndex: 93692 entries, 0 to 93691\n",
      "Data columns (total 4 columns):\n",
      " #   Column             Non-Null Count  Dtype\n",
      "---  ------             --------------  -----\n",
      " 0   ANO_ELEICAO        93692 non-null  int64\n",
      " 1   SG_UE              93692 non-null  int64\n",
      " 2   NR_PARTIDO         93692 non-null  int64\n",
      " 3   CD_GRAU_INSTRUCAO  93692 non-null  int64\n",
      "dtypes: int64(4)\n",
      "memory usage: 2.9 MB\n"
     ]
    }
   ],
   "source": [
    "candidato_2020= pd.read_csv(\n",
    "    \"dados/consulta_cand_2020_SP.csv\",\n",
    "    delimiter=';', \n",
    "    encoding='iso-8859-1',\n",
    "    usecols=['SG_UE', 'CD_GRAU_INSTRUCAO', 'NR_PARTIDO', 'ANO_ELEICAO']\n",
    ")\n",
    "candidato_2020.info()"
   ]
  },
  {
   "cell_type": "code",
   "execution_count": 21,
   "metadata": {},
   "outputs": [
    {
     "name": "stdout",
     "output_type": "stream",
     "text": [
      "<class 'pandas.core.frame.DataFrame'>\n",
      "RangeIndex: 86779 entries, 0 to 86778\n",
      "Data columns (total 4 columns):\n",
      " #   Column             Non-Null Count  Dtype\n",
      "---  ------             --------------  -----\n",
      " 0   ANO_ELEICAO        86779 non-null  int64\n",
      " 1   SG_UE              86779 non-null  int64\n",
      " 2   NR_PARTIDO         86779 non-null  int64\n",
      " 3   CD_GRAU_INSTRUCAO  86779 non-null  int64\n",
      "dtypes: int64(4)\n",
      "memory usage: 2.6 MB\n"
     ]
    }
   ],
   "source": [
    "candidato_2016= pd.read_csv(\n",
    "    \"dados/consulta_cand_2016_SP.csv\",\n",
    "    delimiter=';', \n",
    "    encoding='iso-8859-1',\n",
    "    usecols=['SG_UE', 'CD_GRAU_INSTRUCAO', 'NR_PARTIDO', 'ANO_ELEICAO']\n",
    ")\n",
    "candidato_2016.info()"
   ]
  },
  {
   "cell_type": "code",
   "execution_count": 22,
   "metadata": {},
   "outputs": [
    {
     "name": "stdout",
     "output_type": "stream",
     "text": [
      "<class 'pandas.core.frame.DataFrame'>\n",
      "RangeIndex: 81749 entries, 0 to 81748\n",
      "Data columns (total 4 columns):\n",
      " #   Column             Non-Null Count  Dtype\n",
      "---  ------             --------------  -----\n",
      " 0   ANO_ELEICAO        81749 non-null  int64\n",
      " 1   SG_UE              81749 non-null  int64\n",
      " 2   NR_PARTIDO         81749 non-null  int64\n",
      " 3   CD_GRAU_INSTRUCAO  81749 non-null  int64\n",
      "dtypes: int64(4)\n",
      "memory usage: 2.5 MB\n"
     ]
    }
   ],
   "source": [
    "candidato_2012= pd.read_csv(\n",
    "    \"dados/consulta_cand_2012_SP.csv\",\n",
    "    delimiter=',', \n",
    "    encoding='iso-8859-1',\n",
    "    usecols=['SG_UE', 'CD_GRAU_INSTRUCAO', 'NR_PARTIDO', 'ANO_ELEICAO']\n",
    ")\n",
    "candidato_2012.info()"
   ]
  },
  {
   "cell_type": "code",
   "execution_count": 23,
   "metadata": {},
   "outputs": [
    {
     "name": "stdout",
     "output_type": "stream",
     "text": [
      "<class 'pandas.core.frame.DataFrame'>\n",
      "Int64Index: 262220 entries, 0 to 81748\n",
      "Data columns (total 4 columns):\n",
      " #   Column             Non-Null Count   Dtype\n",
      "---  ------             --------------   -----\n",
      " 0   ANO_ELEICAO        262220 non-null  int64\n",
      " 1   CD_GRAU_INSTRUCAO  262220 non-null  int64\n",
      " 2   NR_PARTIDO         262220 non-null  int64\n",
      " 3   SG_UE              262220 non-null  int64\n",
      "dtypes: int64(4)\n",
      "memory usage: 10.0 MB\n"
     ]
    }
   ],
   "source": [
    "candidato=pd.concat([candidato_2020, candidato_2016, candidato_2012], sort='ANO_ELEICAO')\n",
    "candidato.info()"
   ]
  },
  {
   "cell_type": "code",
   "execution_count": 24,
   "metadata": {
    "scrolled": true
   },
   "outputs": [
    {
     "data": {
      "text/html": [
       "<div>\n",
       "<style scoped>\n",
       "    .dataframe tbody tr th:only-of-type {\n",
       "        vertical-align: middle;\n",
       "    }\n",
       "\n",
       "    .dataframe tbody tr th {\n",
       "        vertical-align: top;\n",
       "    }\n",
       "\n",
       "    .dataframe thead th {\n",
       "        text-align: right;\n",
       "    }\n",
       "</style>\n",
       "<table border=\"1\" class=\"dataframe\">\n",
       "  <thead>\n",
       "    <tr style=\"text-align: right;\">\n",
       "      <th></th>\n",
       "      <th>ANO_ELEICAO</th>\n",
       "      <th>CD_GRAU_INSTRUCAO</th>\n",
       "      <th>NR_PARTIDO</th>\n",
       "      <th>SG_UE</th>\n",
       "    </tr>\n",
       "  </thead>\n",
       "  <tbody>\n",
       "    <tr>\n",
       "      <th>92</th>\n",
       "      <td>2020</td>\n",
       "      <td>6</td>\n",
       "      <td>55</td>\n",
       "      <td>65897</td>\n",
       "    </tr>\n",
       "    <tr>\n",
       "      <th>944</th>\n",
       "      <td>2020</td>\n",
       "      <td>8</td>\n",
       "      <td>43</td>\n",
       "      <td>65897</td>\n",
       "    </tr>\n",
       "    <tr>\n",
       "      <th>981</th>\n",
       "      <td>2020</td>\n",
       "      <td>7</td>\n",
       "      <td>10</td>\n",
       "      <td>65897</td>\n",
       "    </tr>\n",
       "    <tr>\n",
       "      <th>1233</th>\n",
       "      <td>2020</td>\n",
       "      <td>8</td>\n",
       "      <td>35</td>\n",
       "      <td>65897</td>\n",
       "    </tr>\n",
       "    <tr>\n",
       "      <th>1253</th>\n",
       "      <td>2020</td>\n",
       "      <td>5</td>\n",
       "      <td>13</td>\n",
       "      <td>65897</td>\n",
       "    </tr>\n",
       "  </tbody>\n",
       "</table>\n",
       "</div>"
      ],
      "text/plain": [
       "      ANO_ELEICAO  CD_GRAU_INSTRUCAO  NR_PARTIDO  SG_UE\n",
       "92           2020                  6          55  65897\n",
       "944          2020                  8          43  65897\n",
       "981          2020                  7          10  65897\n",
       "1233         2020                  8          35  65897\n",
       "1253         2020                  5          13  65897"
      ]
     },
     "execution_count": 24,
     "metadata": {},
     "output_type": "execute_result"
    }
   ],
   "source": [
    "candidatos = candidato[candidato[\"SG_UE\"] == 65897]\n",
    "candidatos.head()"
   ]
  },
  {
   "cell_type": "code",
   "execution_count": 25,
   "metadata": {},
   "outputs": [],
   "source": [
    "plt.rcParams['figure.figsize'] = (11,7)"
   ]
  },
  {
   "cell_type": "code",
   "execution_count": 26,
   "metadata": {},
   "outputs": [
    {
     "data": {
      "text/plain": [
       "ANO_ELEICAO\n",
       "2012     68\n",
       "2016     89\n",
       "2020    135\n",
       "Name: CD_GRAU_INSTRUCAO, dtype: int64"
      ]
     },
     "execution_count": 26,
     "metadata": {},
     "output_type": "execute_result"
    }
   ],
   "source": [
    "#escolaridade igual ao ensino médio completo por ano\n",
    "medio = candidatos[candidatos[\"CD_GRAU_INSTRUCAO\"] == 6].groupby('ANO_ELEICAO').count()['CD_GRAU_INSTRUCAO']\n",
    "medio"
   ]
  },
  {
   "cell_type": "code",
   "execution_count": 27,
   "metadata": {},
   "outputs": [
    {
     "data": {
      "text/plain": [
       "ANO_ELEICAO\n",
       "2012     74\n",
       "2016    101\n",
       "2020    163\n",
       "Name: CD_GRAU_INSTRUCAO, dtype: int64"
      ]
     },
     "execution_count": 27,
     "metadata": {},
     "output_type": "execute_result"
    }
   ],
   "source": [
    "#escolaridade igual ao ensino superior completo por ano\n",
    "superior = candidatos[candidatos[\"CD_GRAU_INSTRUCAO\"] == 8].groupby('ANO_ELEICAO').count()['CD_GRAU_INSTRUCAO']\n",
    "superior"
   ]
  },
  {
   "cell_type": "code",
   "execution_count": 28,
   "metadata": {},
   "outputs": [
    {
     "data": {
      "image/png": "[encoded data removed]",
      "text/plain": [
       "<Figure size 792x504 with 1 Axes>"
      ]
     },
     "metadata": {
      "needs_background": "light"
     },
     "output_type": "display_data"
    }
   ],
   "source": [
    "rate_medio = pd.DataFrame(medio)\n",
    "rate_medio.plot(kind='bar')\n",
    "plt.title('COMPARAÇÃO ENTRE CANDIDATOS COM ENSINO MEDIO COMPLETO POR ANO ')\n",
    "plt.xlabel('ESCOLARIDADE')\n",
    "plt.ylabel('CANDIDATOS')\n",
    "plt.show()"
   ]
  },
  {
   "cell_type": "code",
   "execution_count": 29,
   "metadata": {},
   "outputs": [
    {
     "data": {
      "image/png": "[encoded data removed]",
      "text/plain": [
       "<Figure size 792x504 with 1 Axes>"
      ]
     },
     "metadata": {
      "needs_background": "light"
     },
     "output_type": "display_data"
    }
   ],
   "source": [
    "rate_superior = pd.DataFrame(medio)\n",
    "rate_superior.plot(kind='bar')\n",
    "plt.title('COMPARAÇÃO ENTRE CANDIDATOS COM ENSINO SUPERIOR COMPLETO POR ANO ')\n",
    "plt.xlabel('ESCOLARIDADE')\n",
    "plt.ylabel('CANDIDATOS')\n",
    "plt.show()"
   ]
  },
  {
   "cell_type": "code",
   "execution_count": 30,
   "metadata": {},
   "outputs": [
    {
     "data": {
      "text/plain": [
       "NR_PARTIDO\n",
       "10    23\n",
       "11    10\n",
       "12    10\n",
       "13    26\n",
       "14     7\n",
       "15    24\n",
       "19     1\n",
       "20     7\n",
       "22     6\n",
       "23    15\n",
       "25     5\n",
       "27     1\n",
       "28     3\n",
       "36     1\n",
       "40     2\n",
       "43    10\n",
       "45    21\n",
       "50     5\n",
       "55     9\n",
       "65     8\n",
       "Name: SG_UE, dtype: int64"
      ]
     },
     "execution_count": 30,
     "metadata": {},
     "output_type": "execute_result"
    }
   ],
   "source": [
    "#candidatos por partido em 2012\n",
    "candidato2012_x_partido = candidatos[candidatos[\"ANO_ELEICAO\"] == 2012].groupby('NR_PARTIDO').count()['SG_UE']\n",
    "candidato2012_x_partido"
   ]
  },
  {
   "cell_type": "code",
   "execution_count": 31,
   "metadata": {},
   "outputs": [
    {
     "data": {
      "text/plain": [
       "NR_PARTIDO\n",
       "10     8\n",
       "11     4\n",
       "12    14\n",
       "13    18\n",
       "14    21\n",
       "15     3\n",
       "16     3\n",
       "17     9\n",
       "19     7\n",
       "20     4\n",
       "22    19\n",
       "23    13\n",
       "25     8\n",
       "27    21\n",
       "28     2\n",
       "31    11\n",
       "35     1\n",
       "36     7\n",
       "40    22\n",
       "43    16\n",
       "45    17\n",
       "50     5\n",
       "51    21\n",
       "55    19\n",
       "65     2\n",
       "77     4\n",
       "90     3\n",
       "Name: SG_UE, dtype: int64"
      ]
     },
     "execution_count": 31,
     "metadata": {},
     "output_type": "execute_result"
    }
   ],
   "source": [
    "#candidatos por partido em 2016\n",
    "candidato2016_x_partido = candidatos[candidatos[\"ANO_ELEICAO\"] == 2016].groupby('NR_PARTIDO').count()['SG_UE']\n",
    "candidato2016_x_partido"
   ]
  },
  {
   "cell_type": "code",
   "execution_count": 32,
   "metadata": {},
   "outputs": [
    {
     "data": {
      "text/plain": [
       "NR_PARTIDO\n",
       "10    22\n",
       "11    21\n",
       "12    22\n",
       "13    21\n",
       "14    21\n",
       "15    14\n",
       "16     5\n",
       "17    22\n",
       "19    20\n",
       "22    20\n",
       "25    21\n",
       "28    16\n",
       "35    14\n",
       "40    16\n",
       "43    21\n",
       "45    21\n",
       "50     5\n",
       "51    22\n",
       "55    20\n",
       "65    20\n",
       "70    20\n",
       "Name: SG_UE, dtype: int64"
      ]
     },
     "execution_count": 32,
     "metadata": {},
     "output_type": "execute_result"
    }
   ],
   "source": [
    "#cadidatos por partido em 2020\n",
    "candidato2020_x_partido = candidatos[candidatos[\"ANO_ELEICAO\"] == 2020].groupby('NR_PARTIDO').count()['SG_UE']\n",
    "candidato2020_x_partido"
   ]
  },
  {
   "cell_type": "code",
   "execution_count": 33,
   "metadata": {},
   "outputs": [
    {
     "data": {
      "image/png": "[encoded data removed]",
      "text/plain": [
       "<Figure size 792x504 with 1 Axes>"
      ]
     },
     "metadata": {
      "needs_background": "light"
     },
     "output_type": "display_data"
    }
   ],
   "source": [
    "partido2012 = pd.DataFrame(candidato2012_x_partido)\n",
    "partido2012.plot(kind='bar', color='pink')\n",
    "plt.title('COMPARAÇÃO ENTRE CANDIDATOS POR PARTIDO EM 2012')\n",
    "plt.xlabel('PARTIDOS')\n",
    "plt.ylabel('CANDIDATOS')\n",
    "plt.show()"
   ]
  },
  {
   "cell_type": "code",
   "execution_count": 34,
   "metadata": {},
   "outputs": [
    {
     "data": {
      "image/png": "[encoded data removed]",
      "text/plain": [
       "<Figure size 792x504 with 1 Axes>"
      ]
     },
     "metadata": {
      "needs_background": "light"
     },
     "output_type": "display_data"
    }
   ],
   "source": [
    "partido2016 = pd.DataFrame(candidato2016_x_partido)\n",
    "partido2016.plot(kind='bar', color='orange')\n",
    "plt.title('COMPARAÇÃO ENTRE CANDIDATOS POR PARTIDO EM 2016')\n",
    "plt.xlabel('PARTIDOS')\n",
    "plt.ylabel('CANDIDATOS')\n",
    "plt.show()"
   ]
  },
  {
   "cell_type": "code",
   "execution_count": 35,
   "metadata": {},
   "outputs": [
    {
     "data": {
      "image/png": "[encoded data removed]",
      "text/plain": [
       "<Figure size 792x504 with 1 Axes>"
      ]
     },
     "metadata": {
      "needs_background": "light"
     },
     "output_type": "display_data"
    }
   ],
   "source": [
    "partido2020 = pd.DataFrame(candidato2020_x_partido)\n",
    "partido2020.plot(kind='bar', color='green')\n",
    "plt.title('COMPARAÇÃO ENTRE CANDIDATOS POR PARTIDO EM 2020')\n",
    "plt.xlabel('PARTIDO')\n",
    "plt.ylabel('CANDIDATOS')\n",
    "plt.show()"
   ]
  }
 ],
 "metadata": {
  "kernelspec": {
   "display_name": "Python 3",
   "language": "python",
   "name": "python3"
  },
  "language_info": {
   "codemirror_mode": {
    "name": "ipython",
    "version": 3
   },
   "file_extension": ".py",
   "mimetype": "text/x-python",
   "name": "python",
   "nbconvert_exporter": "python",
   "pygments_lexer": "ipython3",
   "version": "3.7.3"
  }
 },
 "nbformat": 4,
 "nbformat_minor": 4
}
